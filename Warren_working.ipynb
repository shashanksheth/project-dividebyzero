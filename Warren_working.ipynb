{
 "cells": [
  {
   "cell_type": "code",
   "execution_count": 298,
   "metadata": {},
   "outputs": [],
   "source": [
    "# Dependencies\n",
    "import requests, json, pprint, csv, os\n",
    "import pandas as pd\n",
    "import numpy as np\n",
    "import matplotlib.pyplot as plt\n",
    "from scipy import stats\n",
    "from scipy.stats import linregress"
   ]
  },
  {
   "cell_type": "code",
   "execution_count": 299,
   "metadata": {
    "scrolled": false
   },
   "outputs": [
    {
     "data": {
      "text/html": [
       "<div>\n",
       "<style scoped>\n",
       "    .dataframe tbody tr th:only-of-type {\n",
       "        vertical-align: middle;\n",
       "    }\n",
       "\n",
       "    .dataframe tbody tr th {\n",
       "        vertical-align: top;\n",
       "    }\n",
       "\n",
       "    .dataframe thead th {\n",
       "        text-align: right;\n",
       "    }\n",
       "</style>\n",
       "<table border=\"1\" class=\"dataframe\">\n",
       "  <thead>\n",
       "    <tr style=\"text-align: right;\">\n",
       "      <th></th>\n",
       "      <th>ID</th>\n",
       "      <th>Sex</th>\n",
       "      <th>Age</th>\n",
       "      <th>Height</th>\n",
       "      <th>Weight</th>\n",
       "      <th>NOC</th>\n",
       "      <th>Region</th>\n",
       "      <th>Medal</th>\n",
       "      <th>Sport</th>\n",
       "      <th>Event</th>\n",
       "      <th>Year</th>\n",
       "      <th>Season</th>\n",
       "      <th>City</th>\n",
       "    </tr>\n",
       "  </thead>\n",
       "  <tbody>\n",
       "    <tr>\n",
       "      <td>271111</td>\n",
       "      <td>71419</td>\n",
       "      <td>M</td>\n",
       "      <td>37.0</td>\n",
       "      <td>166.0</td>\n",
       "      <td>60.0</td>\n",
       "      <td>COL</td>\n",
       "      <td>Colombia</td>\n",
       "      <td>NaN</td>\n",
       "      <td>Athletics</td>\n",
       "      <td>Athletics Men's 20 kilometres Walk</td>\n",
       "      <td>2016</td>\n",
       "      <td>Summer</td>\n",
       "      <td>Rio de Janeiro</td>\n",
       "    </tr>\n",
       "    <tr>\n",
       "      <td>271112</td>\n",
       "      <td>24610</td>\n",
       "      <td>M</td>\n",
       "      <td>20.0</td>\n",
       "      <td>152.0</td>\n",
       "      <td>53.0</td>\n",
       "      <td>ITA</td>\n",
       "      <td>Italy</td>\n",
       "      <td>NaN</td>\n",
       "      <td>Rowing</td>\n",
       "      <td>Rowing Men's Coxed Eights</td>\n",
       "      <td>2016</td>\n",
       "      <td>Summer</td>\n",
       "      <td>Rio de Janeiro</td>\n",
       "    </tr>\n",
       "    <tr>\n",
       "      <td>271113</td>\n",
       "      <td>24609</td>\n",
       "      <td>F</td>\n",
       "      <td>23.0</td>\n",
       "      <td>173.0</td>\n",
       "      <td>71.0</td>\n",
       "      <td>CAN</td>\n",
       "      <td>Canada</td>\n",
       "      <td>Bronze</td>\n",
       "      <td>Football</td>\n",
       "      <td>Football Women's Football</td>\n",
       "      <td>2016</td>\n",
       "      <td>Summer</td>\n",
       "      <td>Rio de Janeiro</td>\n",
       "    </tr>\n",
       "    <tr>\n",
       "      <td>271114</td>\n",
       "      <td>24621</td>\n",
       "      <td>M</td>\n",
       "      <td>21.0</td>\n",
       "      <td>194.0</td>\n",
       "      <td>85.0</td>\n",
       "      <td>ITA</td>\n",
       "      <td>Italy</td>\n",
       "      <td>NaN</td>\n",
       "      <td>Swimming</td>\n",
       "      <td>Swimming Men's 200 metres Freestyle</td>\n",
       "      <td>2016</td>\n",
       "      <td>Summer</td>\n",
       "      <td>Rio de Janeiro</td>\n",
       "    </tr>\n",
       "    <tr>\n",
       "      <td>271115</td>\n",
       "      <td>118650</td>\n",
       "      <td>M</td>\n",
       "      <td>26.0</td>\n",
       "      <td>185.0</td>\n",
       "      <td>83.0</td>\n",
       "      <td>NZL</td>\n",
       "      <td>New Zealand</td>\n",
       "      <td>NaN</td>\n",
       "      <td>Hockey</td>\n",
       "      <td>Hockey Men's Hockey</td>\n",
       "      <td>2016</td>\n",
       "      <td>Summer</td>\n",
       "      <td>Rio de Janeiro</td>\n",
       "    </tr>\n",
       "  </tbody>\n",
       "</table>\n",
       "</div>"
      ],
      "text/plain": [
       "            ID Sex   Age  Height  Weight  NOC       Region   Medal      Sport  \\\n",
       "271111   71419   M  37.0   166.0    60.0  COL     Colombia     NaN  Athletics   \n",
       "271112   24610   M  20.0   152.0    53.0  ITA        Italy     NaN     Rowing   \n",
       "271113   24609   F  23.0   173.0    71.0  CAN       Canada  Bronze   Football   \n",
       "271114   24621   M  21.0   194.0    85.0  ITA        Italy     NaN   Swimming   \n",
       "271115  118650   M  26.0   185.0    83.0  NZL  New Zealand     NaN     Hockey   \n",
       "\n",
       "                                      Event  Year  Season            City  \n",
       "271111   Athletics Men's 20 kilometres Walk  2016  Summer  Rio de Janeiro  \n",
       "271112            Rowing Men's Coxed Eights  2016  Summer  Rio de Janeiro  \n",
       "271113            Football Women's Football  2016  Summer  Rio de Janeiro  \n",
       "271114  Swimming Men's 200 metres Freestyle  2016  Summer  Rio de Janeiro  \n",
       "271115                  Hockey Men's Hockey  2016  Summer  Rio de Janeiro  "
      ]
     },
     "execution_count": 299,
     "metadata": {},
     "output_type": "execute_result"
    }
   ],
   "source": [
    "# Read CSV into Pandas DataFrame\n",
    "olympics_df = pd.read_csv('olympics_df.csv')\n",
    "\n",
    "olympics_df.tail()"
   ]
  },
  {
   "cell_type": "code",
   "execution_count": 300,
   "metadata": {},
   "outputs": [
    {
     "data": {
      "text/plain": [
       "ID        271116\n",
       "Sex       271116\n",
       "Age       261642\n",
       "Height    210945\n",
       "Weight    208241\n",
       "NOC       271116\n",
       "Region    270746\n",
       "Medal      39783\n",
       "Sport     271116\n",
       "Event     271116\n",
       "Year      271116\n",
       "Season    271116\n",
       "City      271116\n",
       "dtype: int64"
      ]
     },
     "execution_count": 300,
     "metadata": {},
     "output_type": "execute_result"
    }
   ],
   "source": [
    "olympics_df.count()"
   ]
  },
  {
   "cell_type": "markdown",
   "metadata": {},
   "source": [
    "---\n",
    "## Number of events an athlete has participated in"
   ]
  },
  {
   "cell_type": "code",
   "execution_count": 301,
   "metadata": {},
   "outputs": [
    {
     "data": {
      "text/plain": [
       "ID\n",
       "77710     58\n",
       "106296    39\n",
       "115354    38\n",
       "119591    36\n",
       "44875     32\n",
       "Name: Sex, dtype: int64"
      ]
     },
     "execution_count": 301,
     "metadata": {},
     "output_type": "execute_result"
    }
   ],
   "source": [
    "olympics_groupedby_ID = olympics_df.groupby('ID')\n",
    "\n",
    "event_count = olympics_groupedby_ID.count()['Sex'].sort_values(ascending=False)\n",
    "\n",
    "event_count.head()"
   ]
  },
  {
   "cell_type": "code",
   "execution_count": 302,
   "metadata": {},
   "outputs": [
    {
     "data": {
      "image/png": "[encoded data removed]",
      "text/plain": [
       "<Figure size 720x360 with 1 Axes>"
      ]
     },
     "metadata": {
      "needs_background": "light"
     },
     "output_type": "display_data"
    }
   ],
   "source": [
    "plt.figure(0,(10,5))\n",
    "plt.hist(event_count, bins=50, log=True, rwidth=0.5)\n",
    "plt.xlabel(\"Number of Events\")\n",
    "plt.ylabel(\"Athlete Count\")\n",
    "plt.show()"
   ]
  },
  {
   "cell_type": "code",
   "execution_count": 303,
   "metadata": {},
   "outputs": [
    {
     "name": "stdout",
     "output_type": "stream",
     "text": [
      "The lower quartile of Event Count is: 1.0\n",
      "The upper quartile of Event Count is: 2.0\n",
      "The interquartile range of Event Count is: 1.0\n",
      "The the median of Event Count is: 1.0 \n",
      "Values above 3.5 could be outliers.\n"
     ]
    }
   ],
   "source": [
    "quartiles = event_count.quantile([0.25,0.5,0.75])\n",
    "lowerq = quartiles[0.25]\n",
    "median_temp = quartiles[0.5]\n",
    "upperq = quartiles[0.75]\n",
    "iqr = upperq-lowerq\n",
    "\n",
    "print(f\"The lower quartile of Event Count is: {lowerq}\")\n",
    "print(f\"The upper quartile of Event Count is: {upperq}\")\n",
    "print(f\"The interquartile range of Event Count is: {iqr}\")\n",
    "print(f\"The the median of Event Count is: {median_temp} \")\n",
    "\n",
    "lower_bound = lowerq - (1.5*iqr)\n",
    "upper_bound = upperq + (1.5*iqr)\n",
    "#> print(f\"Values below {lower_bound} could be outliers.\")\n",
    "print(f\"Values above {upper_bound} could be outliers.\")"
   ]
  },
  {
   "cell_type": "markdown",
   "metadata": {},
   "source": [
    "## Number of events an athlete *who has medalled* has participated in"
   ]
  },
  {
   "cell_type": "code",
   "execution_count": 304,
   "metadata": {},
   "outputs": [],
   "source": [
    "olympics_groupedby_ID_df = pd.DataFrame(olympics_groupedby_ID.count())"
   ]
  },
  {
   "cell_type": "code",
   "execution_count": 305,
   "metadata": {},
   "outputs": [],
   "source": [
    "medalled_olymians_df = olympics_groupedby_ID_df.loc[olympics_groupedby_ID_df['Medal'] > 0]"
   ]
  },
  {
   "cell_type": "code",
   "execution_count": 306,
   "metadata": {},
   "outputs": [
    {
     "data": {
      "text/plain": [
       "ID\n",
       "77710     58\n",
       "106296    39\n",
       "119591    36\n",
       "129196    32\n",
       "89187     32\n",
       "Name: Sex, dtype: int64"
      ]
     },
     "execution_count": 306,
     "metadata": {},
     "output_type": "execute_result"
    }
   ],
   "source": [
    "medalled_groupedby_ID = medalled_olymians_df.groupby('ID')\n",
    "\n",
    "medalled_event_count = medalled_groupedby_ID.max()['Sex'].sort_values(ascending=False)\n",
    "\n",
    "medalled_event_count.head()"
   ]
  },
  {
   "cell_type": "code",
   "execution_count": 307,
   "metadata": {},
   "outputs": [
    {
     "data": {
      "image/png": "[encoded data removed]",
      "text/plain": [
       "<Figure size 720x360 with 1 Axes>"
      ]
     },
     "metadata": {
      "needs_background": "light"
     },
     "output_type": "display_data"
    }
   ],
   "source": [
    "plt.figure(0,(10,5))\n",
    "plt.hist(medalled_event_count, bins=50, log=True, rwidth=0.5)\n",
    "plt.xlabel(\"Number of Events\")\n",
    "plt.ylabel(\"Athlete Count\")\n",
    "plt.show()"
   ]
  },
  {
   "cell_type": "code",
   "execution_count": 308,
   "metadata": {},
   "outputs": [
    {
     "name": "stdout",
     "output_type": "stream",
     "text": [
      "The lower quartile of Event Count is: 1.0\n",
      "The upper quartile of Event Count is: 3.0\n",
      "The interquartile range of Event Count is: 2.0\n",
      "The the median of Event Count is: 2.0 \n",
      "Values above 6.0 could be outliers.\n"
     ]
    }
   ],
   "source": [
    "quartiles = medalled_event_count.quantile([0.25,0.5,0.75])\n",
    "lowerq = quartiles[0.25]\n",
    "median_temp = quartiles[0.5]\n",
    "upperq = quartiles[0.75]\n",
    "iqr = upperq-lowerq\n",
    "\n",
    "print(f\"The lower quartile of Event Count is: {lowerq}\")\n",
    "print(f\"The upper quartile of Event Count is: {upperq}\")\n",
    "print(f\"The interquartile range of Event Count is: {iqr}\")\n",
    "print(f\"The the median of Event Count is: {median_temp} \")\n",
    "\n",
    "lower_bound = lowerq - (1.5*iqr)\n",
    "upper_bound = upperq + (1.5*iqr)\n",
    "#> print(f\"Values below {lower_bound} could be outliers.\")\n",
    "print(f\"Values above {upper_bound} could be outliers.\")"
   ]
  },
  {
   "cell_type": "code",
   "execution_count": 309,
   "metadata": {},
   "outputs": [
    {
     "data": {
      "image/png": "[encoded data removed]",
      "text/plain": [
       "<Figure size 360x720 with 1 Axes>"
      ]
     },
     "metadata": {
      "needs_background": "light"
     },
     "output_type": "display_data"
    }
   ],
   "source": [
    "plt.figure(0,(5,10))\n",
    "plt.title('Number of events an Athlete has competed in')\n",
    "plt.ylabel('Athlete Count')\n",
    "plt.boxplot([medalled_event_count, event_count])\n",
    "plt.xticks([1,2],['Medalled', 'All'])\n",
    "\n",
    "# Here we see someone who competed in 38 events yet never once medalled\n",
    "plt.annotate('Never medalled -->',(1.25,37.75),fontsize=10,color=\"red\")\n",
    "plt.show()"
   ]
  },
  {
   "cell_type": "markdown",
   "metadata": {},
   "source": [
    "#### So who is Athlete No. 115354?  \n",
    "* Joseph \"Josy\" Stoffel, born June 27th, 1928 (currently age 91) went to 5 Summer Olympic games between 1948 to 1964.  From age 20 to 36 he competed on behalf of Luxembourg in 7-8 Gymnastics events per trip. Unfortunately he did not finish in the top three in any of his 38 competitions. But not for nothing, Stoffel dominated the domestic scene, and won the Luxembourgian national gymnastics championships for sixteen straight years, from 1949 until 1964.\n",
    "---"
   ]
  },
  {
   "cell_type": "markdown",
   "metadata": {},
   "source": [
    "## Female Medal Count vs Women's Freedom"
   ]
  },
  {
   "cell_type": "code",
   "execution_count": 310,
   "metadata": {
    "scrolled": true
   },
   "outputs": [
    {
     "data": {
      "text/html": [
       "<div>\n",
       "<style scoped>\n",
       "    .dataframe tbody tr th:only-of-type {\n",
       "        vertical-align: middle;\n",
       "    }\n",
       "\n",
       "    .dataframe tbody tr th {\n",
       "        vertical-align: top;\n",
       "    }\n",
       "\n",
       "    .dataframe thead th {\n",
       "        text-align: right;\n",
       "    }\n",
       "</style>\n",
       "<table border=\"1\" class=\"dataframe\">\n",
       "  <thead>\n",
       "    <tr style=\"text-align: right;\">\n",
       "      <th></th>\n",
       "      <th>WPS Index rank</th>\n",
       "      <th>Region</th>\n",
       "      <th>WPS Index value</th>\n",
       "      <th>GDP per capita (PPP$; rank minus WPS rank)</th>\n",
       "    </tr>\n",
       "  </thead>\n",
       "  <tbody>\n",
       "    <tr>\n",
       "      <td>0</td>\n",
       "      <td>1.0</td>\n",
       "      <td>Norway</td>\n",
       "      <td>0.904</td>\n",
       "      <td>7</td>\n",
       "    </tr>\n",
       "    <tr>\n",
       "      <td>1</td>\n",
       "      <td>2.0</td>\n",
       "      <td>Switzerland</td>\n",
       "      <td>0.893</td>\n",
       "      <td>5</td>\n",
       "    </tr>\n",
       "    <tr>\n",
       "      <td>2</td>\n",
       "      <td>3.0</td>\n",
       "      <td>Finland</td>\n",
       "      <td>0.891</td>\n",
       "      <td>18</td>\n",
       "    </tr>\n",
       "    <tr>\n",
       "      <td>3</td>\n",
       "      <td>3.0</td>\n",
       "      <td>Denmark</td>\n",
       "      <td>0.891</td>\n",
       "      <td>10</td>\n",
       "    </tr>\n",
       "    <tr>\n",
       "      <td>4</td>\n",
       "      <td>5.0</td>\n",
       "      <td>Iceland</td>\n",
       "      <td>0.888</td>\n",
       "      <td>6</td>\n",
       "    </tr>\n",
       "  </tbody>\n",
       "</table>\n",
       "</div>"
      ],
      "text/plain": [
       "   WPS Index rank       Region  WPS Index value  \\\n",
       "0             1.0       Norway            0.904   \n",
       "1             2.0  Switzerland            0.893   \n",
       "2             3.0      Finland            0.891   \n",
       "3             3.0      Denmark            0.891   \n",
       "4             5.0      Iceland            0.888   \n",
       "\n",
       "  GDP per capita (PPP$; rank minus WPS rank)  \n",
       "0                                          7  \n",
       "1                                          5  \n",
       "2                                         18  \n",
       "3                                         10  \n",
       "4                                          6  "
      ]
     },
     "execution_count": 310,
     "metadata": {},
     "output_type": "execute_result"
    }
   ],
   "source": [
    "# Read CSV into Pandas DataFrame\n",
    "raw_WPS_df = pd.read_csv('raw_data/WPS_Index_Raw_Data.csv')\n",
    "WPS_df = raw_WPS_df[[\n",
    " 'WPS Index rank',\n",
    " 'Country and group',\n",
    " 'WPS Index value',\n",
    " 'GDP per capita (PPP$; rank minus WPS rank)']]\n",
    "WPS_df = WPS_df.rename(columns={'Country and group': 'Region'})\n",
    "WPS_df.head()"
   ]
  },
  {
   "cell_type": "code",
   "execution_count": 311,
   "metadata": {},
   "outputs": [
    {
     "data": {
      "text/html": [
       "<div>\n",
       "<style scoped>\n",
       "    .dataframe tbody tr th:only-of-type {\n",
       "        vertical-align: middle;\n",
       "    }\n",
       "\n",
       "    .dataframe tbody tr th {\n",
       "        vertical-align: top;\n",
       "    }\n",
       "\n",
       "    .dataframe thead th {\n",
       "        text-align: right;\n",
       "    }\n",
       "</style>\n",
       "<table border=\"1\" class=\"dataframe\">\n",
       "  <thead>\n",
       "    <tr style=\"text-align: right;\">\n",
       "      <th></th>\n",
       "      <th>WPS Index rank</th>\n",
       "      <th>Region</th>\n",
       "      <th>WPS Index value</th>\n",
       "      <th>GDP per capita (PPP$; rank minus WPS rank)</th>\n",
       "    </tr>\n",
       "  </thead>\n",
       "  <tbody>\n",
       "    <tr>\n",
       "      <td>0</td>\n",
       "      <td>1.0</td>\n",
       "      <td>Norway</td>\n",
       "      <td>0.904</td>\n",
       "      <td>7</td>\n",
       "    </tr>\n",
       "    <tr>\n",
       "      <td>1</td>\n",
       "      <td>2.0</td>\n",
       "      <td>Switzerland</td>\n",
       "      <td>0.893</td>\n",
       "      <td>5</td>\n",
       "    </tr>\n",
       "    <tr>\n",
       "      <td>2</td>\n",
       "      <td>3.0</td>\n",
       "      <td>Finland</td>\n",
       "      <td>0.891</td>\n",
       "      <td>18</td>\n",
       "    </tr>\n",
       "    <tr>\n",
       "      <td>3</td>\n",
       "      <td>3.0</td>\n",
       "      <td>Denmark</td>\n",
       "      <td>0.891</td>\n",
       "      <td>10</td>\n",
       "    </tr>\n",
       "    <tr>\n",
       "      <td>4</td>\n",
       "      <td>5.0</td>\n",
       "      <td>Iceland</td>\n",
       "      <td>0.888</td>\n",
       "      <td>6</td>\n",
       "    </tr>\n",
       "    <tr>\n",
       "      <td>5</td>\n",
       "      <td>6.0</td>\n",
       "      <td>Austria</td>\n",
       "      <td>0.884</td>\n",
       "      <td>7</td>\n",
       "    </tr>\n",
       "    <tr>\n",
       "      <td>6</td>\n",
       "      <td>7.0</td>\n",
       "      <td>United Kingdom</td>\n",
       "      <td>0.883</td>\n",
       "      <td>16</td>\n",
       "    </tr>\n",
       "    <tr>\n",
       "      <td>7</td>\n",
       "      <td>8.0</td>\n",
       "      <td>Luxembourg</td>\n",
       "      <td>0.880</td>\n",
       "      <td>-6</td>\n",
       "    </tr>\n",
       "    <tr>\n",
       "      <td>8</td>\n",
       "      <td>9.0</td>\n",
       "      <td>Sweden</td>\n",
       "      <td>0.879</td>\n",
       "      <td>7</td>\n",
       "    </tr>\n",
       "    <tr>\n",
       "      <td>9</td>\n",
       "      <td>9.0</td>\n",
       "      <td>Netherlands</td>\n",
       "      <td>0.879</td>\n",
       "      <td>2</td>\n",
       "    </tr>\n",
       "    <tr>\n",
       "      <td>10</td>\n",
       "      <td>11.0</td>\n",
       "      <td>Canada</td>\n",
       "      <td>0.876</td>\n",
       "      <td>9</td>\n",
       "    </tr>\n",
       "    <tr>\n",
       "      <td>11</td>\n",
       "      <td>12.0</td>\n",
       "      <td>Estonia</td>\n",
       "      <td>0.873</td>\n",
       "      <td>23</td>\n",
       "    </tr>\n",
       "    <tr>\n",
       "      <td>12</td>\n",
       "      <td>13.0</td>\n",
       "      <td>Slovenia</td>\n",
       "      <td>0.872</td>\n",
       "      <td>19</td>\n",
       "    </tr>\n",
       "    <tr>\n",
       "      <td>13</td>\n",
       "      <td>14.0</td>\n",
       "      <td>New Zealand</td>\n",
       "      <td>0.869</td>\n",
       "      <td>11</td>\n",
       "    </tr>\n",
       "    <tr>\n",
       "      <td>14</td>\n",
       "      <td>15.0</td>\n",
       "      <td>Spain</td>\n",
       "      <td>0.860</td>\n",
       "      <td>15</td>\n",
       "    </tr>\n",
       "    <tr>\n",
       "      <td>15</td>\n",
       "      <td>16.0</td>\n",
       "      <td>Ireland</td>\n",
       "      <td>0.858</td>\n",
       "      <td>-12</td>\n",
       "    </tr>\n",
       "    <tr>\n",
       "      <td>16</td>\n",
       "      <td>17.0</td>\n",
       "      <td>Germany</td>\n",
       "      <td>0.856</td>\n",
       "      <td>-2</td>\n",
       "    </tr>\n",
       "    <tr>\n",
       "      <td>17</td>\n",
       "      <td>17.0</td>\n",
       "      <td>Portugal</td>\n",
       "      <td>0.856</td>\n",
       "      <td>18</td>\n",
       "    </tr>\n",
       "    <tr>\n",
       "      <td>18</td>\n",
       "      <td>19.0</td>\n",
       "      <td>United States of America</td>\n",
       "      <td>0.851</td>\n",
       "      <td>-10</td>\n",
       "    </tr>\n",
       "    <tr>\n",
       "      <td>19</td>\n",
       "      <td>20.0</td>\n",
       "      <td>France</td>\n",
       "      <td>0.847</td>\n",
       "      <td>4</td>\n",
       "    </tr>\n",
       "  </tbody>\n",
       "</table>\n",
       "</div>"
      ],
      "text/plain": [
       "    WPS Index rank                    Region  WPS Index value  \\\n",
       "0              1.0                    Norway            0.904   \n",
       "1              2.0               Switzerland            0.893   \n",
       "2              3.0                   Finland            0.891   \n",
       "3              3.0                   Denmark            0.891   \n",
       "4              5.0                   Iceland            0.888   \n",
       "5              6.0                   Austria            0.884   \n",
       "6              7.0            United Kingdom            0.883   \n",
       "7              8.0                Luxembourg            0.880   \n",
       "8              9.0                    Sweden            0.879   \n",
       "9              9.0               Netherlands            0.879   \n",
       "10            11.0                    Canada            0.876   \n",
       "11            12.0                   Estonia            0.873   \n",
       "12            13.0                  Slovenia            0.872   \n",
       "13            14.0               New Zealand            0.869   \n",
       "14            15.0                     Spain            0.860   \n",
       "15            16.0                   Ireland            0.858   \n",
       "16            17.0                   Germany            0.856   \n",
       "17            17.0                  Portugal            0.856   \n",
       "18            19.0  United States of America            0.851   \n",
       "19            20.0                    France            0.847   \n",
       "\n",
       "   GDP per capita (PPP$; rank minus WPS rank)  \n",
       "0                                           7  \n",
       "1                                           5  \n",
       "2                                          18  \n",
       "3                                          10  \n",
       "4                                           6  \n",
       "5                                           7  \n",
       "6                                          16  \n",
       "7                                          -6  \n",
       "8                                           7  \n",
       "9                                           2  \n",
       "10                                          9  \n",
       "11                                         23  \n",
       "12                                         19  \n",
       "13                                         11  \n",
       "14                                         15  \n",
       "15                                        -12  \n",
       "16                                         -2  \n",
       "17                                         18  \n",
       "18                                        -10  \n",
       "19                                          4  "
      ]
     },
     "execution_count": 311,
     "metadata": {},
     "output_type": "execute_result"
    }
   ],
   "source": [
    "WPS_df = WPS_df.dropna(how='all')\n",
    "WPS_df.head(20)"
   ]
  },
  {
   "cell_type": "code",
   "execution_count": 312,
   "metadata": {},
   "outputs": [],
   "source": [
    "slim_olympics_df = olympics_df.drop(['Height', 'Weight', 'City'],1)"
   ]
  },
  {
   "cell_type": "code",
   "execution_count": 313,
   "metadata": {},
   "outputs": [],
   "source": [
    "recent_olympics_df = slim_olympics_df.loc[olympics_df.Year >= 2014]"
   ]
  },
  {
   "cell_type": "code",
   "execution_count": 314,
   "metadata": {},
   "outputs": [
    {
     "data": {
      "text/plain": [
       "ID                                            18579\n",
       "Sex                                           18579\n",
       "Age                                           18579\n",
       "NOC                                           18579\n",
       "Region                                        18534\n",
       "Medal                                          2620\n",
       "Sport                                         18579\n",
       "Event                                         18579\n",
       "Year                                          18579\n",
       "Season                                        18579\n",
       "WPS Index rank                                16958\n",
       "WPS Index value                               16958\n",
       "GDP per capita (PPP$; rank minus WPS rank)    16958\n",
       "dtype: int64"
      ]
     },
     "execution_count": 314,
     "metadata": {},
     "output_type": "execute_result"
    }
   ],
   "source": [
    "recent_olympics_df = pd.merge(recent_olympics_df, WPS_df, on='Region', how='left')\n",
    "recent_olympics_df.count()"
   ]
  },
  {
   "cell_type": "code",
   "execution_count": 315,
   "metadata": {},
   "outputs": [
    {
     "data": {
      "text/plain": [
       "ID                                            2620\n",
       "Sex                                           2620\n",
       "Age                                           2620\n",
       "NOC                                           2620\n",
       "Region                                        2619\n",
       "Medal                                         2620\n",
       "Sport                                         2620\n",
       "Event                                         2620\n",
       "Year                                          2620\n",
       "Season                                        2620\n",
       "WPS Index rank                                2394\n",
       "WPS Index value                               2394\n",
       "GDP per capita (PPP$; rank minus WPS rank)    2394\n",
       "dtype: int64"
      ]
     },
     "execution_count": 315,
     "metadata": {},
     "output_type": "execute_result"
    }
   ],
   "source": [
    "medalled_recent_olympics_df = recent_olympics_df.loc[(recent_olympics_df.Medal == 'Gold') | \n",
    "                                                     (recent_olympics_df.Medal == 'Silver') | \n",
    "                                                     (recent_olympics_df.Medal == 'Bronze')]\n",
    "medalled_recent_olympics_df.count()"
   ]
  },
  {
   "cell_type": "code",
   "execution_count": 316,
   "metadata": {},
   "outputs": [
    {
     "data": {
      "text/plain": [
       "ID                                            2394\n",
       "Sex                                           2394\n",
       "Age                                           2394\n",
       "NOC                                           2394\n",
       "Region                                        2394\n",
       "Medal                                         2394\n",
       "Sport                                         2394\n",
       "Event                                         2394\n",
       "Year                                          2394\n",
       "Season                                        2394\n",
       "WPS Index rank                                2394\n",
       "WPS Index value                               2394\n",
       "GDP per capita (PPP$; rank minus WPS rank)    2394\n",
       "dtype: int64"
      ]
     },
     "execution_count": 316,
     "metadata": {},
     "output_type": "execute_result"
    }
   ],
   "source": [
    "medalled_recent_olympics_df = medalled_recent_olympics_df.dropna()\n",
    "\n",
    "medalled_recent_olympics_df.count()"
   ]
  },
  {
   "cell_type": "code",
   "execution_count": 317,
   "metadata": {},
   "outputs": [
    {
     "data": {
      "image/png": "[encoded data removed]",
      "text/plain": [
       "<Figure size 720x360 with 1 Axes>"
      ]
     },
     "metadata": {
      "needs_background": "light"
     },
     "output_type": "display_data"
    }
   ],
   "source": [
    "plt.figure(0,(10,5))\n",
    "plt.hist(medalled_recent_olympics_df['WPS Index rank'], bins=20, rwidth=0.5)\n",
    "plt.xlabel(\"WPS Index Rank\")\n",
    "plt.ylabel(\"Medal Count\")\n",
    "plt.show()"
   ]
  },
  {
   "cell_type": "code",
   "execution_count": 318,
   "metadata": {},
   "outputs": [
    {
     "data": {
      "image/png": "[encoded data removed]",
      "text/plain": [
       "<Figure size 720x360 with 1 Axes>"
      ]
     },
     "metadata": {
      "needs_background": "light"
     },
     "output_type": "display_data"
    }
   ],
   "source": [
    "plt.figure(0,(10,5))\n",
    "plt.hist(medalled_recent_olympics_df['WPS Index value'], bins=20, rwidth=0.5)\n",
    "plt.xlabel(\"WPS Index Value\")\n",
    "plt.ylabel(\"Medal Count\")\n",
    "plt.show()"
   ]
  },
  {
   "cell_type": "code",
   "execution_count": 319,
   "metadata": {},
   "outputs": [],
   "source": [
    "female_medalled_recent_olympics_df = medalled_recent_olympics_df.loc[\n",
    "    medalled_recent_olympics_df.Sex == 'F']\n",
    "male_medalled_recent_olympics_df = medalled_recent_olympics_df.loc[\n",
    "    medalled_recent_olympics_df.Sex == 'M']"
   ]
  },
  {
   "cell_type": "code",
   "execution_count": 320,
   "metadata": {},
   "outputs": [
    {
     "data": {
      "image/png": "[encoded data removed]",
      "text/plain": [
       "<Figure size 720x360 with 1 Axes>"
      ]
     },
     "metadata": {
      "needs_background": "light"
     },
     "output_type": "display_data"
    }
   ],
   "source": [
    "plt.figure(0,(10,5))\n",
    "plt.hist([male_medalled_recent_olympics_df['WPS Index rank'], \n",
    "          female_medalled_recent_olympics_df['WPS Index rank']], \n",
    "         bins=10, rwidth=0.5)\n",
    "plt.xlabel(\"WPS Index Rank\")\n",
    "plt.ylabel(\"Medal Count\")\n",
    "plt.show()"
   ]
  },
  {
   "cell_type": "code",
   "execution_count": 326,
   "metadata": {},
   "outputs": [
    {
     "data": {
      "image/png": "[encoded data removed]",
      "text/plain": [
       "<Figure size 720x360 with 1 Axes>"
      ]
     },
     "metadata": {
      "needs_background": "light"
     },
     "output_type": "display_data"
    }
   ],
   "source": [
    "plt.figure(0,(10,5))\n",
    "plt.hist([male_medalled_recent_olympics_df['WPS Index value'], \n",
    "          female_medalled_recent_olympics_df['WPS Index value']], \n",
    "         label=['Men', 'Women'], bins=10, rwidth=0.5)\n",
    "plt.xlabel(\"WPS Index Value\")\n",
    "plt.ylabel(\"Medal Count\")\n",
    "plt.legend()\n",
    "plt.show()"
   ]
  },
  {
   "cell_type": "markdown",
   "metadata": {},
   "source": [
    "### These two histograms show that countries in the 90th percentile of women's freedom see their female athletes bring home more metals than their male athletes. "
   ]
  },
  {
   "cell_type": "code",
   "execution_count": 327,
   "metadata": {},
   "outputs": [
    {
     "data": {
      "text/html": [
       "<div>\n",
       "<style scoped>\n",
       "    .dataframe tbody tr th:only-of-type {\n",
       "        vertical-align: middle;\n",
       "    }\n",
       "\n",
       "    .dataframe tbody tr th {\n",
       "        vertical-align: top;\n",
       "    }\n",
       "\n",
       "    .dataframe thead th {\n",
       "        text-align: right;\n",
       "    }\n",
       "</style>\n",
       "<table border=\"1\" class=\"dataframe\">\n",
       "  <thead>\n",
       "    <tr style=\"text-align: right;\">\n",
       "      <th></th>\n",
       "      <th>ID_F</th>\n",
       "      <th>ID_M</th>\n",
       "    </tr>\n",
       "    <tr>\n",
       "      <th>Region</th>\n",
       "      <th></th>\n",
       "      <th></th>\n",
       "    </tr>\n",
       "  </thead>\n",
       "  <tbody>\n",
       "    <tr>\n",
       "      <td>United States of America</td>\n",
       "      <td>188.0</td>\n",
       "      <td>140.0</td>\n",
       "    </tr>\n",
       "    <tr>\n",
       "      <td>Algeria</td>\n",
       "      <td>0.0</td>\n",
       "      <td>2.0</td>\n",
       "    </tr>\n",
       "    <tr>\n",
       "      <td>Armenia</td>\n",
       "      <td>0.0</td>\n",
       "      <td>4.0</td>\n",
       "    </tr>\n",
       "    <tr>\n",
       "      <td>Dominican Republic</td>\n",
       "      <td>0.0</td>\n",
       "      <td>1.0</td>\n",
       "    </tr>\n",
       "    <tr>\n",
       "      <td>Estonia</td>\n",
       "      <td>0.0</td>\n",
       "      <td>4.0</td>\n",
       "    </tr>\n",
       "    <tr>\n",
       "      <td>Fiji</td>\n",
       "      <td>0.0</td>\n",
       "      <td>13.0</td>\n",
       "    </tr>\n",
       "    <tr>\n",
       "      <td>Georgia</td>\n",
       "      <td>0.0</td>\n",
       "      <td>7.0</td>\n",
       "    </tr>\n",
       "    <tr>\n",
       "      <td>Jordan</td>\n",
       "      <td>0.0</td>\n",
       "      <td>1.0</td>\n",
       "    </tr>\n",
       "    <tr>\n",
       "      <td>Morocco</td>\n",
       "      <td>0.0</td>\n",
       "      <td>1.0</td>\n",
       "    </tr>\n",
       "    <tr>\n",
       "      <td>Niger</td>\n",
       "      <td>0.0</td>\n",
       "      <td>1.0</td>\n",
       "    </tr>\n",
       "    <tr>\n",
       "      <td>Nigeria</td>\n",
       "      <td>0.0</td>\n",
       "      <td>18.0</td>\n",
       "    </tr>\n",
       "    <tr>\n",
       "      <td>Qatar</td>\n",
       "      <td>0.0</td>\n",
       "      <td>1.0</td>\n",
       "    </tr>\n",
       "    <tr>\n",
       "      <td>Tajikistan</td>\n",
       "      <td>0.0</td>\n",
       "      <td>1.0</td>\n",
       "    </tr>\n",
       "    <tr>\n",
       "      <td>United Arab Emirates</td>\n",
       "      <td>0.0</td>\n",
       "      <td>1.0</td>\n",
       "    </tr>\n",
       "    <tr>\n",
       "      <td>Uzbekistan</td>\n",
       "      <td>0.0</td>\n",
       "      <td>13.0</td>\n",
       "    </tr>\n",
       "  </tbody>\n",
       "</table>\n",
       "</div>"
      ],
      "text/plain": [
       "                           ID_F   ID_M\n",
       "Region                                \n",
       "United States of America  188.0  140.0\n",
       "Algeria                     0.0    2.0\n",
       "Armenia                     0.0    4.0\n",
       "Dominican Republic          0.0    1.0\n",
       "Estonia                     0.0    4.0\n",
       "Fiji                        0.0   13.0\n",
       "Georgia                     0.0    7.0\n",
       "Jordan                      0.0    1.0\n",
       "Morocco                     0.0    1.0\n",
       "Niger                       0.0    1.0\n",
       "Nigeria                     0.0   18.0\n",
       "Qatar                       0.0    1.0\n",
       "Tajikistan                  0.0    1.0\n",
       "United Arab Emirates        0.0    1.0\n",
       "Uzbekistan                  0.0   13.0"
      ]
     },
     "execution_count": 327,
     "metadata": {},
     "output_type": "execute_result"
    }
   ],
   "source": [
    "female_medalled_groupedby_region = female_medalled_recent_olympics_df.groupby('Region')\n",
    "male_medalled_groupedby_region = male_medalled_recent_olympics_df.groupby('Region')\n",
    "\n",
    "gender_medalled_df = pd.merge(\n",
    "    female_medalled_groupedby_region.ID.count(), \n",
    "    male_medalled_groupedby_region.ID.count(), \n",
    "    on='Region', how='outer', suffixes=['_F', '_M'])\n",
    "\n",
    "gender_medalled_df = gender_medalled_df.fillna(0)\n",
    "\n",
    "gender_medalled_df.tail(15)"
   ]
  },
  {
   "cell_type": "code",
   "execution_count": 328,
   "metadata": {},
   "outputs": [
    {
     "data": {
      "text/html": [
       "<div>\n",
       "<style scoped>\n",
       "    .dataframe tbody tr th:only-of-type {\n",
       "        vertical-align: middle;\n",
       "    }\n",
       "\n",
       "    .dataframe tbody tr th {\n",
       "        vertical-align: top;\n",
       "    }\n",
       "\n",
       "    .dataframe thead th {\n",
       "        text-align: right;\n",
       "    }\n",
       "</style>\n",
       "<table border=\"1\" class=\"dataframe\">\n",
       "  <thead>\n",
       "    <tr style=\"text-align: right;\">\n",
       "      <th></th>\n",
       "      <th>Region</th>\n",
       "      <th>ID_F</th>\n",
       "      <th>ID_M</th>\n",
       "      <th>WPS Index rank</th>\n",
       "      <th>WPS Index value</th>\n",
       "      <th>GDP per capita (PPP$; rank minus WPS rank)</th>\n",
       "    </tr>\n",
       "  </thead>\n",
       "  <tbody>\n",
       "    <tr>\n",
       "      <td>0</td>\n",
       "      <td>Argentina</td>\n",
       "      <td>2.0</td>\n",
       "      <td>20.0</td>\n",
       "      <td>48.0</td>\n",
       "      <td>0.775</td>\n",
       "      <td>8</td>\n",
       "    </tr>\n",
       "    <tr>\n",
       "      <td>1</td>\n",
       "      <td>Australia</td>\n",
       "      <td>41.0</td>\n",
       "      <td>44.0</td>\n",
       "      <td>22.0</td>\n",
       "      <td>0.844</td>\n",
       "      <td>-5</td>\n",
       "    </tr>\n",
       "    <tr>\n",
       "      <td>2</td>\n",
       "      <td>Austria</td>\n",
       "      <td>9.0</td>\n",
       "      <td>20.0</td>\n",
       "      <td>6.0</td>\n",
       "      <td>0.884</td>\n",
       "      <td>7</td>\n",
       "    </tr>\n",
       "    <tr>\n",
       "      <td>3</td>\n",
       "      <td>Azerbaijan</td>\n",
       "      <td>4.0</td>\n",
       "      <td>14.0</td>\n",
       "      <td>123.0</td>\n",
       "      <td>0.650</td>\n",
       "      <td>-56</td>\n",
       "    </tr>\n",
       "    <tr>\n",
       "      <td>4</td>\n",
       "      <td>Bahrain</td>\n",
       "      <td>2.0</td>\n",
       "      <td>0.0</td>\n",
       "      <td>83.0</td>\n",
       "      <td>0.719</td>\n",
       "      <td>-63</td>\n",
       "    </tr>\n",
       "    <tr>\n",
       "      <td>...</td>\n",
       "      <td>...</td>\n",
       "      <td>...</td>\n",
       "      <td>...</td>\n",
       "      <td>...</td>\n",
       "      <td>...</td>\n",
       "      <td>...</td>\n",
       "    </tr>\n",
       "    <tr>\n",
       "      <td>68</td>\n",
       "      <td>Nigeria</td>\n",
       "      <td>0.0</td>\n",
       "      <td>18.0</td>\n",
       "      <td>145.0</td>\n",
       "      <td>0.604</td>\n",
       "      <td>-29</td>\n",
       "    </tr>\n",
       "    <tr>\n",
       "      <td>69</td>\n",
       "      <td>Qatar</td>\n",
       "      <td>0.0</td>\n",
       "      <td>1.0</td>\n",
       "      <td>72.0</td>\n",
       "      <td>0.730</td>\n",
       "      <td>-70</td>\n",
       "    </tr>\n",
       "    <tr>\n",
       "      <td>70</td>\n",
       "      <td>Tajikistan</td>\n",
       "      <td>0.0</td>\n",
       "      <td>1.0</td>\n",
       "      <td>96.0</td>\n",
       "      <td>0.701</td>\n",
       "      <td>37</td>\n",
       "    </tr>\n",
       "    <tr>\n",
       "      <td>71</td>\n",
       "      <td>United Arab Emirates</td>\n",
       "      <td>0.0</td>\n",
       "      <td>1.0</td>\n",
       "      <td>44.0</td>\n",
       "      <td>0.781</td>\n",
       "      <td>-39</td>\n",
       "    </tr>\n",
       "    <tr>\n",
       "      <td>72</td>\n",
       "      <td>Uzbekistan</td>\n",
       "      <td>0.0</td>\n",
       "      <td>13.0</td>\n",
       "      <td>89.0</td>\n",
       "      <td>0.710</td>\n",
       "      <td>23</td>\n",
       "    </tr>\n",
       "  </tbody>\n",
       "</table>\n",
       "<p>73 rows × 6 columns</p>\n",
       "</div>"
      ],
      "text/plain": [
       "                  Region  ID_F  ID_M  WPS Index rank  WPS Index value  \\\n",
       "0              Argentina   2.0  20.0            48.0            0.775   \n",
       "1              Australia  41.0  44.0            22.0            0.844   \n",
       "2                Austria   9.0  20.0             6.0            0.884   \n",
       "3             Azerbaijan   4.0  14.0           123.0            0.650   \n",
       "4                Bahrain   2.0   0.0            83.0            0.719   \n",
       "..                   ...   ...   ...             ...              ...   \n",
       "68               Nigeria   0.0  18.0           145.0            0.604   \n",
       "69                 Qatar   0.0   1.0            72.0            0.730   \n",
       "70            Tajikistan   0.0   1.0            96.0            0.701   \n",
       "71  United Arab Emirates   0.0   1.0            44.0            0.781   \n",
       "72            Uzbekistan   0.0  13.0            89.0            0.710   \n",
       "\n",
       "   GDP per capita (PPP$; rank minus WPS rank)  \n",
       "0                                           8  \n",
       "1                                          -5  \n",
       "2                                           7  \n",
       "3                                         -56  \n",
       "4                                         -63  \n",
       "..                                        ...  \n",
       "68                                        -29  \n",
       "69                                        -70  \n",
       "70                                         37  \n",
       "71                                        -39  \n",
       "72                                         23  \n",
       "\n",
       "[73 rows x 6 columns]"
      ]
     },
     "execution_count": 328,
     "metadata": {},
     "output_type": "execute_result"
    }
   ],
   "source": [
    "gender_medalled_df = pd.merge(gender_medalled_df, WPS_df, \n",
    "                              on='Region', how='left')\n",
    "gender_medalled_df"
   ]
  },
  {
   "cell_type": "code",
   "execution_count": 330,
   "metadata": {},
   "outputs": [
    {
     "data": {
      "text/html": [
       "<div>\n",
       "<style scoped>\n",
       "    .dataframe tbody tr th:only-of-type {\n",
       "        vertical-align: middle;\n",
       "    }\n",
       "\n",
       "    .dataframe tbody tr th {\n",
       "        vertical-align: top;\n",
       "    }\n",
       "\n",
       "    .dataframe thead th {\n",
       "        text-align: right;\n",
       "    }\n",
       "</style>\n",
       "<table border=\"1\" class=\"dataframe\">\n",
       "  <thead>\n",
       "    <tr style=\"text-align: right;\">\n",
       "      <th></th>\n",
       "      <th>Region</th>\n",
       "      <th>ID_F</th>\n",
       "      <th>ID_M</th>\n",
       "      <th>WPS Index rank</th>\n",
       "      <th>WPS Index value</th>\n",
       "      <th>GDP per capita (PPP$; rank minus WPS rank)</th>\n",
       "      <th>Percent Male</th>\n",
       "      <th>Percent Female</th>\n",
       "    </tr>\n",
       "  </thead>\n",
       "  <tbody>\n",
       "    <tr>\n",
       "      <td>0</td>\n",
       "      <td>Argentina</td>\n",
       "      <td>2.0</td>\n",
       "      <td>20.0</td>\n",
       "      <td>48.0</td>\n",
       "      <td>0.775</td>\n",
       "      <td>8</td>\n",
       "      <td>90.91</td>\n",
       "      <td>9.09</td>\n",
       "    </tr>\n",
       "    <tr>\n",
       "      <td>1</td>\n",
       "      <td>Australia</td>\n",
       "      <td>41.0</td>\n",
       "      <td>44.0</td>\n",
       "      <td>22.0</td>\n",
       "      <td>0.844</td>\n",
       "      <td>-5</td>\n",
       "      <td>51.76</td>\n",
       "      <td>48.24</td>\n",
       "    </tr>\n",
       "    <tr>\n",
       "      <td>2</td>\n",
       "      <td>Austria</td>\n",
       "      <td>9.0</td>\n",
       "      <td>20.0</td>\n",
       "      <td>6.0</td>\n",
       "      <td>0.884</td>\n",
       "      <td>7</td>\n",
       "      <td>68.97</td>\n",
       "      <td>31.03</td>\n",
       "    </tr>\n",
       "    <tr>\n",
       "      <td>3</td>\n",
       "      <td>Azerbaijan</td>\n",
       "      <td>4.0</td>\n",
       "      <td>14.0</td>\n",
       "      <td>123.0</td>\n",
       "      <td>0.650</td>\n",
       "      <td>-56</td>\n",
       "      <td>77.78</td>\n",
       "      <td>22.22</td>\n",
       "    </tr>\n",
       "    <tr>\n",
       "      <td>4</td>\n",
       "      <td>Bahrain</td>\n",
       "      <td>2.0</td>\n",
       "      <td>0.0</td>\n",
       "      <td>83.0</td>\n",
       "      <td>0.719</td>\n",
       "      <td>-63</td>\n",
       "      <td>0.00</td>\n",
       "      <td>100.00</td>\n",
       "    </tr>\n",
       "    <tr>\n",
       "      <td>...</td>\n",
       "      <td>...</td>\n",
       "      <td>...</td>\n",
       "      <td>...</td>\n",
       "      <td>...</td>\n",
       "      <td>...</td>\n",
       "      <td>...</td>\n",
       "      <td>...</td>\n",
       "      <td>...</td>\n",
       "    </tr>\n",
       "    <tr>\n",
       "      <td>68</td>\n",
       "      <td>Nigeria</td>\n",
       "      <td>0.0</td>\n",
       "      <td>18.0</td>\n",
       "      <td>145.0</td>\n",
       "      <td>0.604</td>\n",
       "      <td>-29</td>\n",
       "      <td>100.00</td>\n",
       "      <td>0.00</td>\n",
       "    </tr>\n",
       "    <tr>\n",
       "      <td>69</td>\n",
       "      <td>Qatar</td>\n",
       "      <td>0.0</td>\n",
       "      <td>1.0</td>\n",
       "      <td>72.0</td>\n",
       "      <td>0.730</td>\n",
       "      <td>-70</td>\n",
       "      <td>100.00</td>\n",
       "      <td>0.00</td>\n",
       "    </tr>\n",
       "    <tr>\n",
       "      <td>70</td>\n",
       "      <td>Tajikistan</td>\n",
       "      <td>0.0</td>\n",
       "      <td>1.0</td>\n",
       "      <td>96.0</td>\n",
       "      <td>0.701</td>\n",
       "      <td>37</td>\n",
       "      <td>100.00</td>\n",
       "      <td>0.00</td>\n",
       "    </tr>\n",
       "    <tr>\n",
       "      <td>71</td>\n",
       "      <td>United Arab Emirates</td>\n",
       "      <td>0.0</td>\n",
       "      <td>1.0</td>\n",
       "      <td>44.0</td>\n",
       "      <td>0.781</td>\n",
       "      <td>-39</td>\n",
       "      <td>100.00</td>\n",
       "      <td>0.00</td>\n",
       "    </tr>\n",
       "    <tr>\n",
       "      <td>72</td>\n",
       "      <td>Uzbekistan</td>\n",
       "      <td>0.0</td>\n",
       "      <td>13.0</td>\n",
       "      <td>89.0</td>\n",
       "      <td>0.710</td>\n",
       "      <td>23</td>\n",
       "      <td>100.00</td>\n",
       "      <td>0.00</td>\n",
       "    </tr>\n",
       "  </tbody>\n",
       "</table>\n",
       "<p>73 rows × 8 columns</p>\n",
       "</div>"
      ],
      "text/plain": [
       "                  Region  ID_F  ID_M  WPS Index rank  WPS Index value  \\\n",
       "0              Argentina   2.0  20.0            48.0            0.775   \n",
       "1              Australia  41.0  44.0            22.0            0.844   \n",
       "2                Austria   9.0  20.0             6.0            0.884   \n",
       "3             Azerbaijan   4.0  14.0           123.0            0.650   \n",
       "4                Bahrain   2.0   0.0            83.0            0.719   \n",
       "..                   ...   ...   ...             ...              ...   \n",
       "68               Nigeria   0.0  18.0           145.0            0.604   \n",
       "69                 Qatar   0.0   1.0            72.0            0.730   \n",
       "70            Tajikistan   0.0   1.0            96.0            0.701   \n",
       "71  United Arab Emirates   0.0   1.0            44.0            0.781   \n",
       "72            Uzbekistan   0.0  13.0            89.0            0.710   \n",
       "\n",
       "   GDP per capita (PPP$; rank minus WPS rank)  Percent Male  Percent Female  \n",
       "0                                           8         90.91            9.09  \n",
       "1                                          -5         51.76           48.24  \n",
       "2                                           7         68.97           31.03  \n",
       "3                                         -56         77.78           22.22  \n",
       "4                                         -63          0.00          100.00  \n",
       "..                                        ...           ...             ...  \n",
       "68                                        -29        100.00            0.00  \n",
       "69                                        -70        100.00            0.00  \n",
       "70                                         37        100.00            0.00  \n",
       "71                                        -39        100.00            0.00  \n",
       "72                                         23        100.00            0.00  \n",
       "\n",
       "[73 rows x 8 columns]"
      ]
     },
     "execution_count": 330,
     "metadata": {},
     "output_type": "execute_result"
    }
   ],
   "source": [
    "gender_medalled_df['Percent Male'] = round(\n",
    "    100*gender_medalled_df.ID_M / (gender_medalled_df.ID_M + gender_medalled_df.ID_F),2)\n",
    "\n",
    "gender_medalled_df['Percent Female'] = round(\n",
    "    100*gender_medalled_df.ID_F / (gender_medalled_df.ID_M + gender_medalled_df.ID_F),2)\n",
    "\n",
    "gender_medalled_df"
   ]
  },
  {
   "cell_type": "code",
   "execution_count": 331,
   "metadata": {},
   "outputs": [
    {
     "name": "stdout",
     "output_type": "stream",
     "text": [
      "The r-squared is: 0.018533456774480254\n"
     ]
    },
    {
     "data": {
      "image/png": "[encoded data removed]",
      "text/plain": [
       "<Figure size 432x288 with 1 Axes>"
      ]
     },
     "metadata": {
      "needs_background": "light"
     },
     "output_type": "display_data"
    }
   ],
   "source": [
    "y_values = gender_medalled_df['Percent Female']\n",
    "x_values = gender_medalled_df['WPS Index value']\n",
    "z_values = gender_medalled_df['ID_M'] + gender_medalled_df['ID_F']\n",
    "\n",
    "(slope, intercept, rvalue, pvalue, stderr) = linregress(x_values, y_values)\n",
    "regress_values = x_values * slope + intercept\n",
    "line_eq = \"y = \" + str(round(slope,2)) + \"x + \" + str(round(intercept,2))\n",
    "\n",
    "plt.scatter(x_values, y_values, s=z_values)\n",
    "plt.plot(x_values,regress_values,\"r-\")\n",
    "plt.annotate(line_eq,(.55,40),fontsize=10,color=\"red\")\n",
    "plt.ylabel('Percent of Medals by Women')\n",
    "plt.xlabel('WPS Value')\n",
    "print(f\"The r-squared is: {rvalue**2}\")\n",
    "plt.show()"
   ]
  },
  {
   "cell_type": "code",
   "execution_count": 381,
   "metadata": {},
   "outputs": [
    {
     "name": "stdout",
     "output_type": "stream",
     "text": [
      "The correlation value (r) is: 0.3953207382900704\n"
     ]
    },
    {
     "data": {
      "image/png": "[encoded data removed]",
      "text/plain": [
       "<Figure size 720x360 with 1 Axes>"
      ]
     },
     "metadata": {
      "needs_background": "light"
     },
     "output_type": "display_data"
    }
   ],
   "source": [
    "y_values = gender_medalled_df['Percent Female']*(\n",
    "    (gender_medalled_df.ID_M + gender_medalled_df.ID_F)/(gender_medalled_df.ID_M.sum() + gender_medalled_df.ID_F.sum()))\n",
    "x_values = gender_medalled_df['WPS Index value']\n",
    "z_values = gender_medalled_df['ID_M'] + gender_medalled_df['ID_F']\n",
    "\n",
    "(slope, intercept, rvalue, pvalue, stderr) = linregress(x_values, y_values)\n",
    "regress_values = x_values * slope + intercept\n",
    "line_eq = \"y = \" + str(round(slope,2)) + \"x + \" + str(round(intercept,2))\n",
    "\n",
    "plt.figure(0,(10,5))\n",
    "plt.scatter(x_values, y_values, s=z_values,alpha=.8)\n",
    "plt.plot(x_values,regress_values,\"r-\",lw=.2)\n",
    "plt.annotate(line_eq,(.71,.7),fontsize=12,color=\"red\", rotation=5)\n",
    "plt.annotate('USA -->',(.80,7.7),fontsize=12,color=\"teal\")\n",
    "plt.annotate('Canada -->',(.82,4.0),fontsize=12,color=\"teal\")\n",
    "plt.annotate('China -->',(.67,3.2),fontsize=12,color=\"teal\")\n",
    "plt.title('Percent of All Medals Won by Females per Country versus WPS Index')\n",
    "plt.xlabel('WPS Index Value (out of 1.00)')\n",
    "plt.ylabel('Percent of Medals (%)')\n",
    "plt.ylim(-1,10)\n",
    "print(f\"The correlation value (r) is: {rvalue}\")\n",
    "plt.show()"
   ]
  },
  {
   "cell_type": "code",
   "execution_count": 369,
   "metadata": {},
   "outputs": [
    {
     "data": {
      "text/html": [
       "<div>\n",
       "<style scoped>\n",
       "    .dataframe tbody tr th:only-of-type {\n",
       "        vertical-align: middle;\n",
       "    }\n",
       "\n",
       "    .dataframe tbody tr th {\n",
       "        vertical-align: top;\n",
       "    }\n",
       "\n",
       "    .dataframe thead th {\n",
       "        text-align: right;\n",
       "    }\n",
       "</style>\n",
       "<table border=\"1\" class=\"dataframe\">\n",
       "  <thead>\n",
       "    <tr style=\"text-align: right;\">\n",
       "      <th></th>\n",
       "      <th>Region</th>\n",
       "      <th>ID_F</th>\n",
       "      <th>ID_M</th>\n",
       "      <th>WPS Index rank</th>\n",
       "      <th>WPS Index value</th>\n",
       "      <th>GDP per capita (PPP$; rank minus WPS rank)</th>\n",
       "      <th>Percent Male</th>\n",
       "      <th>Percent Female</th>\n",
       "    </tr>\n",
       "  </thead>\n",
       "  <tbody>\n",
       "    <tr>\n",
       "      <td>58</td>\n",
       "      <td>United States of America</td>\n",
       "      <td>188.0</td>\n",
       "      <td>140.0</td>\n",
       "      <td>19.0</td>\n",
       "      <td>0.851</td>\n",
       "      <td>-10</td>\n",
       "      <td>42.68</td>\n",
       "      <td>57.32</td>\n",
       "    </tr>\n",
       "    <tr>\n",
       "      <td>10</td>\n",
       "      <td>Canada</td>\n",
       "      <td>101.0</td>\n",
       "      <td>54.0</td>\n",
       "      <td>11.0</td>\n",
       "      <td>0.876</td>\n",
       "      <td>9</td>\n",
       "      <td>34.84</td>\n",
       "      <td>65.16</td>\n",
       "    </tr>\n",
       "    <tr>\n",
       "      <td>20</td>\n",
       "      <td>Germany</td>\n",
       "      <td>82.0</td>\n",
       "      <td>113.0</td>\n",
       "      <td>17.0</td>\n",
       "      <td>0.856</td>\n",
       "      <td>-2</td>\n",
       "      <td>57.95</td>\n",
       "      <td>42.05</td>\n",
       "    </tr>\n",
       "    <tr>\n",
       "      <td>11</td>\n",
       "      <td>China</td>\n",
       "      <td>80.0</td>\n",
       "      <td>45.0</td>\n",
       "      <td>76.0</td>\n",
       "      <td>0.725</td>\n",
       "      <td>-7</td>\n",
       "      <td>36.00</td>\n",
       "      <td>64.00</td>\n",
       "    </tr>\n",
       "    <tr>\n",
       "      <td>57</td>\n",
       "      <td>United Kingdom</td>\n",
       "      <td>69.0</td>\n",
       "      <td>86.0</td>\n",
       "      <td>7.0</td>\n",
       "      <td>0.883</td>\n",
       "      <td>16</td>\n",
       "      <td>55.48</td>\n",
       "      <td>44.52</td>\n",
       "    </tr>\n",
       "    <tr>\n",
       "      <td>...</td>\n",
       "      <td>...</td>\n",
       "      <td>...</td>\n",
       "      <td>...</td>\n",
       "      <td>...</td>\n",
       "      <td>...</td>\n",
       "      <td>...</td>\n",
       "      <td>...</td>\n",
       "      <td>...</td>\n",
       "    </tr>\n",
       "    <tr>\n",
       "      <td>62</td>\n",
       "      <td>Estonia</td>\n",
       "      <td>0.0</td>\n",
       "      <td>4.0</td>\n",
       "      <td>12.0</td>\n",
       "      <td>0.873</td>\n",
       "      <td>23</td>\n",
       "      <td>100.00</td>\n",
       "      <td>0.00</td>\n",
       "    </tr>\n",
       "    <tr>\n",
       "      <td>61</td>\n",
       "      <td>Dominican Republic</td>\n",
       "      <td>0.0</td>\n",
       "      <td>1.0</td>\n",
       "      <td>74.0</td>\n",
       "      <td>0.726</td>\n",
       "      <td>-2</td>\n",
       "      <td>100.00</td>\n",
       "      <td>0.00</td>\n",
       "    </tr>\n",
       "    <tr>\n",
       "      <td>60</td>\n",
       "      <td>Armenia</td>\n",
       "      <td>0.0</td>\n",
       "      <td>4.0</td>\n",
       "      <td>82.0</td>\n",
       "      <td>0.720</td>\n",
       "      <td>11</td>\n",
       "      <td>100.00</td>\n",
       "      <td>0.00</td>\n",
       "    </tr>\n",
       "    <tr>\n",
       "      <td>59</td>\n",
       "      <td>Algeria</td>\n",
       "      <td>0.0</td>\n",
       "      <td>2.0</td>\n",
       "      <td>143.0</td>\n",
       "      <td>0.611</td>\n",
       "      <td>-66</td>\n",
       "      <td>100.00</td>\n",
       "      <td>0.00</td>\n",
       "    </tr>\n",
       "    <tr>\n",
       "      <td>72</td>\n",
       "      <td>Uzbekistan</td>\n",
       "      <td>0.0</td>\n",
       "      <td>13.0</td>\n",
       "      <td>89.0</td>\n",
       "      <td>0.710</td>\n",
       "      <td>23</td>\n",
       "      <td>100.00</td>\n",
       "      <td>0.00</td>\n",
       "    </tr>\n",
       "  </tbody>\n",
       "</table>\n",
       "<p>73 rows × 8 columns</p>\n",
       "</div>"
      ],
      "text/plain": [
       "                      Region   ID_F   ID_M  WPS Index rank  WPS Index value  \\\n",
       "58  United States of America  188.0  140.0            19.0            0.851   \n",
       "10                    Canada  101.0   54.0            11.0            0.876   \n",
       "20                   Germany   82.0  113.0            17.0            0.856   \n",
       "11                     China   80.0   45.0            76.0            0.725   \n",
       "57            United Kingdom   69.0   86.0             7.0            0.883   \n",
       "..                       ...    ...    ...             ...              ...   \n",
       "62                   Estonia    0.0    4.0            12.0            0.873   \n",
       "61        Dominican Republic    0.0    1.0            74.0            0.726   \n",
       "60                   Armenia    0.0    4.0            82.0            0.720   \n",
       "59                   Algeria    0.0    2.0           143.0            0.611   \n",
       "72                Uzbekistan    0.0   13.0            89.0            0.710   \n",
       "\n",
       "   GDP per capita (PPP$; rank minus WPS rank)  Percent Male  Percent Female  \n",
       "58                                        -10         42.68           57.32  \n",
       "10                                          9         34.84           65.16  \n",
       "20                                         -2         57.95           42.05  \n",
       "11                                         -7         36.00           64.00  \n",
       "57                                         16         55.48           44.52  \n",
       "..                                        ...           ...             ...  \n",
       "62                                         23        100.00            0.00  \n",
       "61                                         -2        100.00            0.00  \n",
       "60                                         11        100.00            0.00  \n",
       "59                                        -66        100.00            0.00  \n",
       "72                                         23        100.00            0.00  \n",
       "\n",
       "[73 rows x 8 columns]"
      ]
     },
     "execution_count": 369,
     "metadata": {},
     "output_type": "execute_result"
    }
   ],
   "source": [
    "gender_medalled_df.sort_values('ID_F', ascending=False)"
   ]
  },
  {
   "cell_type": "code",
   "execution_count": null,
   "metadata": {},
   "outputs": [],
   "source": []
  }
 ],
 "metadata": {
  "kernelspec": {
   "display_name": "Python 3",
   "language": "python",
   "name": "python3"
  },
  "language_info": {
   "codemirror_mode": {
    "name": "ipython",
    "version": 3
   },
   "file_extension": ".py",
   "mimetype": "text/x-python",
   "name": "python",
   "nbconvert_exporter": "python",
   "pygments_lexer": "ipython3",
   "version": "3.7.4"
  }
 },
 "nbformat": 4,
 "nbformat_minor": 2
}
